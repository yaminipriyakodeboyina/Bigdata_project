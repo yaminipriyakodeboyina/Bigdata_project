{
 "cells": [
  {
   "cell_type": "markdown",
   "id": "f43c3f0a",
   "metadata": {},
   "source": [
    "## Introduction"
   ]
  },
  {
   "cell_type": "markdown",
   "id": "4356040c",
   "metadata": {},
   "source": [
    "For the final project, I implemented a House price prediction algorithm. I will be demonstrating data lifecycle and pipelines, data cleaning and Processing, and Analytics. Overview of the project, I am using Google cloud to set up a virtual machine to process house price data, first step is to create a compute engine, and install software package git for source code version control and data. I will ingest data into compute engine and code which I have written to clean, transform, process, analyze and visualize data and store resulting files on cloud storage, which is a bucket, and publish cloud storage data to the web which can be accessed by the public. I am going to explain every stage data goes through and software pipelines used to handle this data objects. And in data cleaning, I am using various quality improvement techniques which are explained in detail in the coming sections. Coming to processing and analytics, I will be using preprocessing techniques before using a machine learning algorithm for the data and steps can be explained in detail in the following sections. While going through this process I prepared visualization to understand the effects of data cleaning and preprocessing. At last, I will be comparing results with using preprocessing and without using preprocessing to understand how important it is to use preprocessing techniques for data. Also, I will show an example to predict a house price for given inputs."
   ]
  },
  {
   "cell_type": "markdown",
   "id": "5018203b",
   "metadata": {},
   "source": [
    "## Backgroud"
   ]
  },
  {
   "cell_type": "markdown",
   "id": "44b0f372",
   "metadata": {},
   "source": [
    "I selected data life cycle and pipeline topic because it interests me how the data goes through from one stage to another stage and gives useful insights at the end to make critical decisions to grow business and I am also curious about software tools that are implemented in the pipeline, that’s why I took this as the main topic. Data life cycle is the different stages data goes through during its existence, Pipeline is an abstraction that describes tools and services that are applied to data objects as they do through the cycle. This we often see in all projects in general. Data cleaning is very important without that data is for no use. Using data without data cleaning is a waste of time. The other topic I chose is processing and analysis, which is crucial for any business to grow, this is critical to extract insights from data. So many companies like Netflix, Amazon emphasize creating different mind-boggling ways to process and analyze data and the reason to do this is that with processing and analyzing they can extract insights that grow their business exponentially. I found house price data helpful to demonstrate the above concepts. This data has null values, outliers, has useless data, etc. Each downside is treated in each step of the data cycle using software pipelines."
   ]
  },
  {
   "cell_type": "markdown",
   "id": "88cdeb4c",
   "metadata": {},
   "source": [
    "## Methodology"
   ]
  },
  {
   "cell_type": "markdown",
   "id": "eda205db",
   "metadata": {},
   "source": [
    "I am using USGS model to explain the data life cycle and pipeline. I will use following vocablory to explain this project\n"
   ]
  },
  {
   "cell_type": "markdown",
   "id": "5c8a1133",
   "metadata": {},
   "source": [
    "![title](img/usgs_model.png)"
   ]
  },
  {
   "cell_type": "markdown",
   "id": "a8b0f23e",
   "metadata": {},
   "source": [
    "we can match between life cycle and pipeline. I am going to use these terms to explain the lifecycle and pipeline process"
   ]
  },
  {
   "cell_type": "markdown",
   "id": "eae09afa",
   "metadata": {},
   "source": [
    "![title](img/lp.png)"
   ]
  },
  {
   "cell_type": "markdown",
   "id": "c7984c9f",
   "metadata": {},
   "source": [
    "### 1. Plan"
   ]
  },
  {
   "cell_type": "markdown",
   "id": "a4845008",
   "metadata": {},
   "source": [
    "Plan is to create a virtual machine and an instance to ingest data and python code for data cleaning, preprocessing and analysis  and display plots regarding data and interpret or predict results using machine learning algorithm "
   ]
  },
  {
   "cell_type": "markdown",
   "id": "03a545f3",
   "metadata": {},
   "source": [
    "### 2. Acquire"
   ]
  },
  {
   "cell_type": "markdown",
   "id": "a297fe38",
   "metadata": {},
   "source": [
    "In this stage involve create required virtual machine instance and ingesting data into the istance and introducing data inputs"
   ]
  },
  {
   "cell_type": "markdown",
   "id": "f68817ea",
   "metadata": {},
   "source": [
    "First we have to create compute engine instance with specific security permissions. Before this we need to create a vpn network for the compute engine instance. We have to configure firewall policy that can be accessible using port 22 for SSH, we configured explicitly because we are going use SSH to remotely access compute engine instance. Follow documentantion to add firewall to use ssh https://cloud.google.com/iap/docs/using-tcp-forwarding ."
   ]
  },
  {
   "cell_type": "markdown",
   "id": "4e2cd945",
   "metadata": {},
   "source": [
    "#### Creation of vpn network"
   ]
  },
  {
   "cell_type": "markdown",
   "id": "be8b3724",
   "metadata": {},
   "source": [
    "search for VPC network as shown in fig and create with create VPC network button"
   ]
  },
  {
   "cell_type": "markdown",
   "id": "75104382",
   "metadata": {},
   "source": [
    "![title](img/vpn1.png)"
   ]
  },
  {
   "cell_type": "markdown",
   "id": "e17dd916",
   "metadata": {},
   "source": [
    "![title](img/vpn_details.png)"
   ]
  },
  {
   "cell_type": "markdown",
   "id": "ad83ddb3",
   "metadata": {},
   "source": [
    "#### creation of Compute engine instance"
   ]
  },
  {
   "cell_type": "markdown",
   "id": "bed47086",
   "metadata": {},
   "source": [
    "Use create instance button"
   ]
  },
  {
   "cell_type": "markdown",
   "id": "5f7609bf",
   "metadata": {},
   "source": [
    "![title](img/create_instance.png)\n"
   ]
  },
  {
   "cell_type": "markdown",
   "id": "95fc9faf",
   "metadata": {},
   "source": [
    "instance running"
   ]
  },
  {
   "cell_type": "markdown",
   "id": "5fa313f6",
   "metadata": {},
   "source": [
    "![title](img/instance_running.png)"
   ]
  },
  {
   "cell_type": "markdown",
   "id": "25c2cec9",
   "metadata": {},
   "source": [
    "SSH into instance. we are going use SSH to remotely access compute engine instance. connect ssh by below dropdown option \"open in browser window\""
   ]
  },
  {
   "cell_type": "markdown",
   "id": "c42d03b3",
   "metadata": {},
   "source": [
    "![title](img/open_ssh.png)"
   ]
  },
  {
   "cell_type": "markdown",
   "id": "a75bc479",
   "metadata": {},
   "source": [
    "connected secure shell"
   ]
  },
  {
   "cell_type": "markdown",
   "id": "b7186cbc",
   "metadata": {},
   "source": [
    "![title](img/ssh_connected.png)"
   ]
  },
  {
   "cell_type": "markdown",
   "id": "1e0a6633",
   "metadata": {},
   "source": [
    "Now we have created a virtual machine which is compute engine instance to process house price data. Now we have to ingest the data and code from github. For that we have install the software package Git.This can be done by following below commands\n",
    "\n",
    "- sudo apt-get update\n",
    "- sudo apt-get -y -qq install git\n",
    "- sudo apt-get install python-mpltoolkits.basemap\n",
    "- git --version (To check whether git is installed)"
   ]
  },
  {
   "cell_type": "markdown",
   "id": "816668f5",
   "metadata": {},
   "source": [
    "![title](img/git_install.png)"
   ]
  },
  {
   "cell_type": "markdown",
   "id": "705f8339",
   "metadata": {},
   "source": [
    "### ingest data and code / Import and fetch data"
   ]
  },
  {
   "cell_type": "markdown",
   "id": "8022f64c",
   "metadata": {},
   "source": [
    "Use below command to downlaod data and code from github. \n",
    "\n",
    "- git clone https://github.com/yaminipriyakodeboyina/Bigdata_project.git\n",
    "- cd Bigdata_project\n",
    "- ls -l (to see all files in the folder) \n"
   ]
  },
  {
   "cell_type": "markdown",
   "id": "4c9c7713",
   "metadata": {},
   "source": [
    "![title](img/git_files.png)"
   ]
  },
  {
   "cell_type": "markdown",
   "id": "90730790",
   "metadata": {},
   "source": [
    "#### Explaining files in github"
   ]
  },
  {
   "cell_type": "markdown",
   "id": "50858b85",
   "metadata": {},
   "source": [
    "- data1.csv :-The house price data is taken from https://www.kaggle.com/shree1992/housedata.\n",
    "- finalproject.py:-include python code to predict house prices\n",
    "- install_missing.sh:- installs missing python packages"
   ]
  },
  {
   "cell_type": "markdown",
   "id": "0784893f",
   "metadata": {},
   "source": [
    "use below command to install missing packages \n",
    "- bash install_missing.sh"
   ]
  },
  {
   "cell_type": "markdown",
   "id": "82eb353e",
   "metadata": {},
   "source": [
    "install_missing.sh file contains instal commands for missing python packages"
   ]
  },
  {
   "cell_type": "markdown",
   "id": "049a0ff9",
   "metadata": {},
   "source": [
    "![title](img/missing_file.png)"
   ]
  },
  {
   "cell_type": "markdown",
   "id": "1cd899ed",
   "metadata": {},
   "source": [
    "#### Data "
   ]
  },
  {
   "cell_type": "markdown",
   "id": "34bc93cc",
   "metadata": {},
   "source": [
    "Data Source: https://www.kaggle.com/shree1992/housedata."
   ]
  },
  {
   "cell_type": "code",
   "execution_count": 1,
   "id": "2a145368",
   "metadata": {},
   "outputs": [],
   "source": [
    "import pandas as pd\n",
    "import numpy as np \n",
    "import seaborn as sns"
   ]
  },
  {
   "cell_type": "code",
   "execution_count": 2,
   "id": "e21588d7",
   "metadata": {},
   "outputs": [],
   "source": [
    "data=pd.read_csv('data1.csv')"
   ]
  },
  {
   "cell_type": "code",
   "execution_count": 3,
   "id": "d89962ac",
   "metadata": {},
   "outputs": [],
   "source": [
    "df=data.copy()\n",
    "df1=data.copy()"
   ]
  },
  {
   "cell_type": "markdown",
   "id": "68fc192d",
   "metadata": {},
   "source": [
    "First 5 rows in data"
   ]
  },
  {
   "cell_type": "code",
   "execution_count": 4,
   "id": "b6860240",
   "metadata": {
    "scrolled": true
   },
   "outputs": [
    {
     "data": {
      "text/html": [
       "<div>\n",
       "<style scoped>\n",
       "    .dataframe tbody tr th:only-of-type {\n",
       "        vertical-align: middle;\n",
       "    }\n",
       "\n",
       "    .dataframe tbody tr th {\n",
       "        vertical-align: top;\n",
       "    }\n",
       "\n",
       "    .dataframe thead th {\n",
       "        text-align: right;\n",
       "    }\n",
       "</style>\n",
       "<table border=\"1\" class=\"dataframe\">\n",
       "  <thead>\n",
       "    <tr style=\"text-align: right;\">\n",
       "      <th></th>\n",
       "      <th>date</th>\n",
       "      <th>price</th>\n",
       "      <th>bedrooms</th>\n",
       "      <th>bathrooms</th>\n",
       "      <th>sqft_living</th>\n",
       "      <th>sqft_lot</th>\n",
       "      <th>floors</th>\n",
       "      <th>waterfront</th>\n",
       "      <th>view</th>\n",
       "      <th>condition</th>\n",
       "      <th>sqft_above</th>\n",
       "      <th>sqft_basement</th>\n",
       "      <th>yr_built</th>\n",
       "      <th>yr_renovated</th>\n",
       "      <th>street</th>\n",
       "      <th>city</th>\n",
       "      <th>statezip</th>\n",
       "      <th>country</th>\n",
       "    </tr>\n",
       "  </thead>\n",
       "  <tbody>\n",
       "    <tr>\n",
       "      <th>0</th>\n",
       "      <td>2014-05-02 00:00:00</td>\n",
       "      <td>313000.0</td>\n",
       "      <td>3.0</td>\n",
       "      <td>1.50</td>\n",
       "      <td>1340</td>\n",
       "      <td>7912</td>\n",
       "      <td>1.5</td>\n",
       "      <td>0</td>\n",
       "      <td>0</td>\n",
       "      <td>3</td>\n",
       "      <td>1340</td>\n",
       "      <td>0</td>\n",
       "      <td>1955</td>\n",
       "      <td>2005</td>\n",
       "      <td>18810 Densmore Ave N</td>\n",
       "      <td>Shoreline</td>\n",
       "      <td>WA 98133</td>\n",
       "      <td>USA</td>\n",
       "    </tr>\n",
       "    <tr>\n",
       "      <th>1</th>\n",
       "      <td>2014-05-02 00:00:00</td>\n",
       "      <td>2384000.0</td>\n",
       "      <td>5.0</td>\n",
       "      <td>2.50</td>\n",
       "      <td>3650</td>\n",
       "      <td>9050</td>\n",
       "      <td>2.0</td>\n",
       "      <td>0</td>\n",
       "      <td>4</td>\n",
       "      <td>5</td>\n",
       "      <td>3370</td>\n",
       "      <td>280</td>\n",
       "      <td>1921</td>\n",
       "      <td>0</td>\n",
       "      <td>709 W Blaine St</td>\n",
       "      <td>Seattle</td>\n",
       "      <td>WA 98119</td>\n",
       "      <td>USA</td>\n",
       "    </tr>\n",
       "    <tr>\n",
       "      <th>2</th>\n",
       "      <td>2014-05-02 00:00:00</td>\n",
       "      <td>342000.0</td>\n",
       "      <td>3.0</td>\n",
       "      <td>2.00</td>\n",
       "      <td>1930</td>\n",
       "      <td>11947</td>\n",
       "      <td>1.0</td>\n",
       "      <td>0</td>\n",
       "      <td>0</td>\n",
       "      <td>4</td>\n",
       "      <td>1930</td>\n",
       "      <td>0</td>\n",
       "      <td>1966</td>\n",
       "      <td>0</td>\n",
       "      <td>26206-26214 143rd Ave SE</td>\n",
       "      <td>Kent</td>\n",
       "      <td>WA 98042</td>\n",
       "      <td>USA</td>\n",
       "    </tr>\n",
       "    <tr>\n",
       "      <th>3</th>\n",
       "      <td>2014-05-02 00:00:00</td>\n",
       "      <td>420000.0</td>\n",
       "      <td>3.0</td>\n",
       "      <td>2.25</td>\n",
       "      <td>2000</td>\n",
       "      <td>8030</td>\n",
       "      <td>1.0</td>\n",
       "      <td>0</td>\n",
       "      <td>0</td>\n",
       "      <td>4</td>\n",
       "      <td>1000</td>\n",
       "      <td>1000</td>\n",
       "      <td>1963</td>\n",
       "      <td>0</td>\n",
       "      <td>857 170th Pl NE</td>\n",
       "      <td>Bellevue</td>\n",
       "      <td>WA 98008</td>\n",
       "      <td>USA</td>\n",
       "    </tr>\n",
       "    <tr>\n",
       "      <th>4</th>\n",
       "      <td>2014-05-02 00:00:00</td>\n",
       "      <td>550000.0</td>\n",
       "      <td>4.0</td>\n",
       "      <td>2.50</td>\n",
       "      <td>1940</td>\n",
       "      <td>10500</td>\n",
       "      <td>1.0</td>\n",
       "      <td>0</td>\n",
       "      <td>0</td>\n",
       "      <td>4</td>\n",
       "      <td>1140</td>\n",
       "      <td>800</td>\n",
       "      <td>1976</td>\n",
       "      <td>1992</td>\n",
       "      <td>9105 170th Ave NE</td>\n",
       "      <td>Redmond</td>\n",
       "      <td>WA 98052</td>\n",
       "      <td>USA</td>\n",
       "    </tr>\n",
       "  </tbody>\n",
       "</table>\n",
       "</div>"
      ],
      "text/plain": [
       "                  date      price  bedrooms  bathrooms  sqft_living  sqft_lot  \\\n",
       "0  2014-05-02 00:00:00   313000.0       3.0       1.50         1340      7912   \n",
       "1  2014-05-02 00:00:00  2384000.0       5.0       2.50         3650      9050   \n",
       "2  2014-05-02 00:00:00   342000.0       3.0       2.00         1930     11947   \n",
       "3  2014-05-02 00:00:00   420000.0       3.0       2.25         2000      8030   \n",
       "4  2014-05-02 00:00:00   550000.0       4.0       2.50         1940     10500   \n",
       "\n",
       "   floors  waterfront  view  condition  sqft_above  sqft_basement  yr_built  \\\n",
       "0     1.5           0     0          3        1340              0      1955   \n",
       "1     2.0           0     4          5        3370            280      1921   \n",
       "2     1.0           0     0          4        1930              0      1966   \n",
       "3     1.0           0     0          4        1000           1000      1963   \n",
       "4     1.0           0     0          4        1140            800      1976   \n",
       "\n",
       "   yr_renovated                    street       city  statezip country  \n",
       "0          2005      18810 Densmore Ave N  Shoreline  WA 98133     USA  \n",
       "1             0           709 W Blaine St    Seattle  WA 98119     USA  \n",
       "2             0  26206-26214 143rd Ave SE       Kent  WA 98042     USA  \n",
       "3             0           857 170th Pl NE   Bellevue  WA 98008     USA  \n",
       "4          1992         9105 170th Ave NE    Redmond  WA 98052     USA  "
      ]
     },
     "execution_count": 4,
     "metadata": {},
     "output_type": "execute_result"
    }
   ],
   "source": [
    "df.head()"
   ]
  },
  {
   "cell_type": "markdown",
   "id": "58c98fcc",
   "metadata": {},
   "source": [
    "#### Column names and its data types"
   ]
  },
  {
   "cell_type": "code",
   "execution_count": 5,
   "id": "27a883e3",
   "metadata": {},
   "outputs": [
    {
     "data": {
      "text/plain": [
       "date              object\n",
       "price            float64\n",
       "bedrooms         float64\n",
       "bathrooms        float64\n",
       "sqft_living        int64\n",
       "sqft_lot           int64\n",
       "floors           float64\n",
       "waterfront         int64\n",
       "view               int64\n",
       "condition          int64\n",
       "sqft_above         int64\n",
       "sqft_basement      int64\n",
       "yr_built           int64\n",
       "yr_renovated       int64\n",
       "street            object\n",
       "city              object\n",
       "statezip          object\n",
       "country           object\n",
       "dtype: object"
      ]
     },
     "execution_count": 5,
     "metadata": {},
     "output_type": "execute_result"
    }
   ],
   "source": [
    "df.dtypes"
   ]
  },
  {
   "cell_type": "markdown",
   "id": "7e877a4d",
   "metadata": {},
   "source": [
    "- Continuous Variables: price,bedrooms,\tbathrooms,\tsqft_living,\tsqft_lot,\tfloors,\twaterfront,\tview,\tcondition,\tsqft_above, sqft_basement,\tyr_built,\tyr_renovated\n",
    "- Categorical Variables: street,\tcity,\tstatezip,\tcountry"
   ]
  },
  {
   "cell_type": "markdown",
   "id": "4291cbbf",
   "metadata": {},
   "source": [
    "### 3. Process"
   ]
  },
  {
   "cell_type": "markdown",
   "id": "edc8d9f1",
   "metadata": {},
   "source": [
    "Processing collected data to makle it ready to analyze"
   ]
  },
  {
   "cell_type": "markdown",
   "id": "f31c8b02",
   "metadata": {},
   "source": [
    "Data cleaning come under this step"
   ]
  },
  {
   "cell_type": "markdown",
   "id": "73dacdb6",
   "metadata": {},
   "source": [
    "### Data Cleaning"
   ]
  },
  {
   "cell_type": "markdown",
   "id": "c9b37515",
   "metadata": {},
   "source": [
    "Data cleaning steps\n",
    "- Remove duplicate or irrelevant observations\n",
    "- Fix structural errors\n",
    "- Filter unwanted outliers\n",
    "- Handle missing data\n",
    "- Validate and QA"
   ]
  },
  {
   "cell_type": "markdown",
   "id": "c80fc75e",
   "metadata": {},
   "source": [
    "#### Remove duplicate or irrelevant observations"
   ]
  },
  {
   "cell_type": "markdown",
   "id": "2cb6e8b2",
   "metadata": {},
   "source": [
    "Drop rows with price<=0, rows with price less than or equal to zero are irrelavant and should be removed"
   ]
  },
  {
   "cell_type": "code",
   "execution_count": 6,
   "id": "3685f637",
   "metadata": {},
   "outputs": [],
   "source": [
    "df.drop(df[df.price <= 0].index,inplace=True)"
   ]
  },
  {
   "cell_type": "markdown",
   "id": "70fe02d0",
   "metadata": {},
   "source": [
    "street,city,country are irrrelavant, because we are using zipcode, the former are redundant data and date cannot be processed to estimate price so we are ommiting it."
   ]
  },
  {
   "cell_type": "code",
   "execution_count": 7,
   "id": "665c907c",
   "metadata": {},
   "outputs": [],
   "source": [
    "df.drop(['street','city','country','date'],axis=1, inplace=True)"
   ]
  },
  {
   "cell_type": "code",
   "execution_count": 8,
   "id": "d98e6ff0",
   "metadata": {},
   "outputs": [],
   "source": [
    "import matplotlib.pyplot as plt\n",
    "%matplotlib inline"
   ]
  },
  {
   "cell_type": "markdown",
   "id": "15651df8",
   "metadata": {},
   "source": [
    "#### Handle missing data"
   ]
  },
  {
   "cell_type": "markdown",
   "id": "d3ffd131",
   "metadata": {},
   "source": [
    "Bedroom data looks good and it is correlated with price data, so It is one of the main feature to predict price. But few rows has 0 bedrooms, these 0 bedrooms are missing data "
   ]
  },
  {
   "cell_type": "code",
   "execution_count": 9,
   "id": "0ed2ad93",
   "metadata": {},
   "outputs": [
    {
     "data": {
      "text/html": [
       "<div>\n",
       "<style scoped>\n",
       "    .dataframe tbody tr th:only-of-type {\n",
       "        vertical-align: middle;\n",
       "    }\n",
       "\n",
       "    .dataframe tbody tr th {\n",
       "        vertical-align: top;\n",
       "    }\n",
       "\n",
       "    .dataframe thead th {\n",
       "        text-align: right;\n",
       "    }\n",
       "</style>\n",
       "<table border=\"1\" class=\"dataframe\">\n",
       "  <thead>\n",
       "    <tr style=\"text-align: right;\">\n",
       "      <th></th>\n",
       "      <th>price</th>\n",
       "      <th>bedrooms</th>\n",
       "      <th>bathrooms</th>\n",
       "      <th>sqft_living</th>\n",
       "      <th>sqft_lot</th>\n",
       "      <th>floors</th>\n",
       "      <th>waterfront</th>\n",
       "      <th>view</th>\n",
       "      <th>condition</th>\n",
       "      <th>sqft_above</th>\n",
       "      <th>sqft_basement</th>\n",
       "      <th>yr_built</th>\n",
       "      <th>yr_renovated</th>\n",
       "      <th>statezip</th>\n",
       "    </tr>\n",
       "  </thead>\n",
       "  <tbody>\n",
       "    <tr>\n",
       "      <th>2365</th>\n",
       "      <td>1095000.0</td>\n",
       "      <td>0.0</td>\n",
       "      <td>0.0</td>\n",
       "      <td>3064</td>\n",
       "      <td>4764</td>\n",
       "      <td>3.5</td>\n",
       "      <td>0</td>\n",
       "      <td>2</td>\n",
       "      <td>3</td>\n",
       "      <td>3064</td>\n",
       "      <td>0</td>\n",
       "      <td>1990</td>\n",
       "      <td>2009</td>\n",
       "      <td>WA 98102</td>\n",
       "    </tr>\n",
       "    <tr>\n",
       "      <th>3209</th>\n",
       "      <td>1295648.0</td>\n",
       "      <td>0.0</td>\n",
       "      <td>0.0</td>\n",
       "      <td>4810</td>\n",
       "      <td>28008</td>\n",
       "      <td>2.0</td>\n",
       "      <td>0</td>\n",
       "      <td>0</td>\n",
       "      <td>3</td>\n",
       "      <td>4810</td>\n",
       "      <td>0</td>\n",
       "      <td>1990</td>\n",
       "      <td>2009</td>\n",
       "      <td>WA 98053</td>\n",
       "    </tr>\n",
       "  </tbody>\n",
       "</table>\n",
       "</div>"
      ],
      "text/plain": [
       "          price  bedrooms  bathrooms  sqft_living  sqft_lot  floors  \\\n",
       "2365  1095000.0       0.0        0.0         3064      4764     3.5   \n",
       "3209  1295648.0       0.0        0.0         4810     28008     2.0   \n",
       "\n",
       "      waterfront  view  condition  sqft_above  sqft_basement  yr_built  \\\n",
       "2365           0     2          3        3064              0      1990   \n",
       "3209           0     0          3        4810              0      1990   \n",
       "\n",
       "      yr_renovated  statezip  \n",
       "2365          2009  WA 98102  \n",
       "3209          2009  WA 98053  "
      ]
     },
     "metadata": {},
     "output_type": "display_data"
    }
   ],
   "source": [
    "display(df[df.bedrooms == 0])"
   ]
  },
  {
   "cell_type": "markdown",
   "id": "b21048b7",
   "metadata": {},
   "source": [
    "It is not normal to have no bedrooms in a housse that costs 1095000.0 and 1295648.0\t"
   ]
  },
  {
   "cell_type": "markdown",
   "id": "49b8ca0d",
   "metadata": {},
   "source": [
    "bedrooms vs sqft_living"
   ]
  },
  {
   "cell_type": "code",
   "execution_count": 10,
   "id": "1ba87719",
   "metadata": {},
   "outputs": [
    {
     "data": {
      "image/png": "[encoded data removed]",
      "text/plain": [
       "<Figure size 1152x504 with 1 Axes>"
      ]
     },
     "metadata": {
      "needs_background": "light"
     },
     "output_type": "display_data"
    }
   ],
   "source": [
    "plt.figure(figsize=(16,7))\n",
    "ax = sns.barplot(x=df['bedrooms'], y=df['sqft_living'],palette=\"spring\")"
   ]
  },
  {
   "cell_type": "markdown",
   "id": "2e31cd40",
   "metadata": {},
   "source": [
    "houses which has 0 bedrooms has nearly same sqft_living as 7 bedrooms, so we will replace 0 bedrooms with 4 bedrooms. Here we are using sqft_living because sqft_living is highly correlated with price"
   ]
  },
  {
   "cell_type": "code",
   "execution_count": 11,
   "id": "c3c33a08",
   "metadata": {},
   "outputs": [],
   "source": [
    "df['bedrooms'].replace(to_replace = 0, value = 7, inplace = True)"
   ]
  },
  {
   "cell_type": "markdown",
   "id": "647aee0e",
   "metadata": {},
   "source": [
    "Bathroom data looks good and it is correlated with price data, so It is one of the main feature to predict price. But few rows has 0 bathrooms. As it is not normal to have zero bathrooms"
   ]
  },
  {
   "cell_type": "code",
   "execution_count": 12,
   "id": "dc9b1c05",
   "metadata": {},
   "outputs": [
    {
     "data": {
      "text/html": [
       "<div>\n",
       "<style scoped>\n",
       "    .dataframe tbody tr th:only-of-type {\n",
       "        vertical-align: middle;\n",
       "    }\n",
       "\n",
       "    .dataframe tbody tr th {\n",
       "        vertical-align: top;\n",
       "    }\n",
       "\n",
       "    .dataframe thead th {\n",
       "        text-align: right;\n",
       "    }\n",
       "</style>\n",
       "<table border=\"1\" class=\"dataframe\">\n",
       "  <thead>\n",
       "    <tr style=\"text-align: right;\">\n",
       "      <th></th>\n",
       "      <th>price</th>\n",
       "      <th>bedrooms</th>\n",
       "      <th>bathrooms</th>\n",
       "      <th>sqft_living</th>\n",
       "      <th>sqft_lot</th>\n",
       "      <th>floors</th>\n",
       "      <th>waterfront</th>\n",
       "      <th>view</th>\n",
       "      <th>condition</th>\n",
       "      <th>sqft_above</th>\n",
       "      <th>sqft_basement</th>\n",
       "      <th>yr_built</th>\n",
       "      <th>yr_renovated</th>\n",
       "      <th>statezip</th>\n",
       "    </tr>\n",
       "  </thead>\n",
       "  <tbody>\n",
       "    <tr>\n",
       "      <th>2365</th>\n",
       "      <td>1095000.0</td>\n",
       "      <td>7.0</td>\n",
       "      <td>0.0</td>\n",
       "      <td>3064</td>\n",
       "      <td>4764</td>\n",
       "      <td>3.5</td>\n",
       "      <td>0</td>\n",
       "      <td>2</td>\n",
       "      <td>3</td>\n",
       "      <td>3064</td>\n",
       "      <td>0</td>\n",
       "      <td>1990</td>\n",
       "      <td>2009</td>\n",
       "      <td>WA 98102</td>\n",
       "    </tr>\n",
       "    <tr>\n",
       "      <th>3209</th>\n",
       "      <td>1295648.0</td>\n",
       "      <td>7.0</td>\n",
       "      <td>0.0</td>\n",
       "      <td>4810</td>\n",
       "      <td>28008</td>\n",
       "      <td>2.0</td>\n",
       "      <td>0</td>\n",
       "      <td>0</td>\n",
       "      <td>3</td>\n",
       "      <td>4810</td>\n",
       "      <td>0</td>\n",
       "      <td>1990</td>\n",
       "      <td>2009</td>\n",
       "      <td>WA 98053</td>\n",
       "    </tr>\n",
       "  </tbody>\n",
       "</table>\n",
       "</div>"
      ],
      "text/plain": [
       "          price  bedrooms  bathrooms  sqft_living  sqft_lot  floors  \\\n",
       "2365  1095000.0       7.0        0.0         3064      4764     3.5   \n",
       "3209  1295648.0       7.0        0.0         4810     28008     2.0   \n",
       "\n",
       "      waterfront  view  condition  sqft_above  sqft_basement  yr_built  \\\n",
       "2365           0     2          3        3064              0      1990   \n",
       "3209           0     0          3        4810              0      1990   \n",
       "\n",
       "      yr_renovated  statezip  \n",
       "2365          2009  WA 98102  \n",
       "3209          2009  WA 98053  "
      ]
     },
     "metadata": {},
     "output_type": "display_data"
    }
   ],
   "source": [
    "display(df[df.bathrooms == 0])"
   ]
  },
  {
   "cell_type": "code",
   "execution_count": 13,
   "id": "752a882e",
   "metadata": {},
   "outputs": [
    {
     "data": {
      "image/png": "[encoded data removed]",
      "text/plain": [
       "<Figure size 1152x504 with 1 Axes>"
      ]
     },
     "metadata": {
      "needs_background": "light"
     },
     "output_type": "display_data"
    }
   ],
   "source": [
    "plt.figure(figsize=(16,7))\n",
    "ax = sns.barplot(x=df['bathrooms'], y=df['sqft_living'])"
   ]
  },
  {
   "cell_type": "markdown",
   "id": "d7d93411",
   "metadata": {},
   "source": [
    "same as bedrooms,houses which has 0 bathrooms has nearly same sqft_living as 4 bathrooms, so we will replace 0 bathrooms with 4 bathrooms.Here we are using sqft_living because sqft_living is highly correlated with price"
   ]
  },
  {
   "cell_type": "code",
   "execution_count": 14,
   "id": "0d279da5",
   "metadata": {},
   "outputs": [],
   "source": [
    "df['bathrooms'].replace(to_replace = 0, value = 4, inplace = True)"
   ]
  },
  {
   "cell_type": "markdown",
   "id": "db53959a",
   "metadata": {},
   "source": [
    "#### Filter unwanted outliers"
   ]
  },
  {
   "cell_type": "code",
   "execution_count": 15,
   "id": "88c20943",
   "metadata": {},
   "outputs": [
    {
     "data": {
      "text/plain": [
       "Text(0, 0.5, 'price')"
      ]
     },
     "execution_count": 15,
     "metadata": {},
     "output_type": "execute_result"
    },
    {
     "data": {
      "image/png": "[encoded data removed]",
      "text/plain": [
       "<Figure size 1152x504 with 1 Axes>"
      ]
     },
     "metadata": {
      "needs_background": "light"
     },
     "output_type": "display_data"
    }
   ],
   "source": [
    "plt.figure(figsize=(16,7))\n",
    "plt.scatter(df.bedrooms,df.price)\n",
    "plt.xlabel(\"bedrooms\")\n",
    "plt.ylabel(\"price\")"
   ]
  },
  {
   "cell_type": "markdown",
   "id": "bbce61ca",
   "metadata": {},
   "source": [
    "bedrooms values with more than 7 are outliers because there are few more than 7 and rare to have more than 7 bedrooms, so we make bedroom value more than 7 to 7"
   ]
  },
  {
   "cell_type": "code",
   "execution_count": 16,
   "id": "d5e48306",
   "metadata": {},
   "outputs": [],
   "source": [
    "df['bedrooms'] = np.where((df.bedrooms >7 ), 7, df.bedrooms)"
   ]
  },
  {
   "cell_type": "code",
   "execution_count": 17,
   "id": "9150d9a5",
   "metadata": {},
   "outputs": [
    {
     "data": {
      "text/plain": [
       "Text(0, 0.5, 'price')"
      ]
     },
     "execution_count": 17,
     "metadata": {},
     "output_type": "execute_result"
    },
    {
     "data": {
      "image/png": "[encoded data removed]",
      "text/plain": [
       "<Figure size 1152x504 with 1 Axes>"
      ]
     },
     "metadata": {
      "needs_background": "light"
     },
     "output_type": "display_data"
    }
   ],
   "source": [
    "plt.figure(figsize=(16,7))\n",
    "plt.scatter(df.bathrooms,df.price)\n",
    "plt.xlabel(\"bathrooms\")\n",
    "plt.ylabel(\"price\")"
   ]
  },
  {
   "cell_type": "markdown",
   "id": "b0b6496a",
   "metadata": {},
   "source": [
    "bathrooms values with more than 6 are outliers because only few have more than 6 and very rare to have more than 6 bathrooms, so we make bathrooms value more than 6 to 6"
   ]
  },
  {
   "cell_type": "code",
   "execution_count": 18,
   "id": "cbb33f90",
   "metadata": {},
   "outputs": [],
   "source": [
    "df['bathrooms'] = np.where((df.bathrooms >6 ), 6, df.bathrooms)"
   ]
  },
  {
   "cell_type": "code",
   "execution_count": 19,
   "id": "82ff29a2",
   "metadata": {},
   "outputs": [
    {
     "data": {
      "text/plain": [
       "Text(0, 0.5, 'price')"
      ]
     },
     "execution_count": 19,
     "metadata": {},
     "output_type": "execute_result"
    },
    {
     "data": {
      "image/png": "[encoded data removed]",
      "text/plain": [
       "<Figure size 1152x504 with 1 Axes>"
      ]
     },
     "metadata": {
      "needs_background": "light"
     },
     "output_type": "display_data"
    }
   ],
   "source": [
    "plt.figure(figsize=(16,7))\n",
    "plt.scatter(df.sqft_living,df.price)\n",
    "plt.xlabel(\"sqft_living\")\n",
    "plt.ylabel(\"price\")"
   ]
  },
  {
   "cell_type": "markdown",
   "id": "5a5e87a6",
   "metadata": {},
   "source": [
    "sqft_living values with more than 6000 are outliers, so we make sqft_living value more than 6000 to 6000"
   ]
  },
  {
   "cell_type": "code",
   "execution_count": 20,
   "id": "6594602e",
   "metadata": {},
   "outputs": [],
   "source": [
    "df['sqft_living'] = np.where((df.sqft_living >6000 ), 6000, df.sqft_living)"
   ]
  },
  {
   "cell_type": "markdown",
   "id": "24418855",
   "metadata": {},
   "source": [
    " sqft_lot vs price graph"
   ]
  },
  {
   "cell_type": "code",
   "execution_count": 21,
   "id": "61b257de",
   "metadata": {},
   "outputs": [
    {
     "data": {
      "text/plain": [
       "Text(0, 0.5, 'price')"
      ]
     },
     "execution_count": 21,
     "metadata": {},
     "output_type": "execute_result"
    },
    {
     "data": {
      "image/png": "[encoded data removed]",
      "text/plain": [
       "<Figure size 1152x504 with 1 Axes>"
      ]
     },
     "metadata": {
      "needs_background": "light"
     },
     "output_type": "display_data"
    }
   ],
   "source": [
    "plt.figure(figsize=(16,7))\n",
    "plt.scatter(df.sqft_lot,df.price)\n",
    "plt.xlabel(\"sqft_lot\")\n",
    "plt.ylabel(\"price\")"
   ]
  },
  {
   "cell_type": "markdown",
   "id": "fb48f711",
   "metadata": {},
   "source": [
    "#### sqft_lot values with more than 300000 are outliers, so we make sqft_lot value more than 300000 to 300000"
   ]
  },
  {
   "cell_type": "code",
   "execution_count": 22,
   "id": "bccee31f",
   "metadata": {},
   "outputs": [],
   "source": [
    "df['sqft_lot'] = np.where((df.sqft_lot >300000 ), 300000, df.sqft_lot)"
   ]
  },
  {
   "cell_type": "markdown",
   "id": "7e54c238",
   "metadata": {},
   "source": [
    "sqft_above vs price graph"
   ]
  },
  {
   "cell_type": "code",
   "execution_count": 23,
   "id": "fa450873",
   "metadata": {},
   "outputs": [
    {
     "data": {
      "text/plain": [
       "Text(0, 0.5, 'price')"
      ]
     },
     "execution_count": 23,
     "metadata": {},
     "output_type": "execute_result"
    },
    {
     "data": {
      "image/png": "[encoded data removed]",
      "text/plain": [
       "<Figure size 1152x504 with 1 Axes>"
      ]
     },
     "metadata": {
      "needs_background": "light"
     },
     "output_type": "display_data"
    }
   ],
   "source": [
    "plt.figure(figsize=(16,7))\n",
    "plt.scatter(df.sqft_above,df.price)\n",
    "plt.xlabel(\"sqft_above\")\n",
    "plt.ylabel(\"price\")"
   ]
  },
  {
   "cell_type": "markdown",
   "id": "ae5bb24d",
   "metadata": {},
   "source": [
    "#### sqft_above values with more than 5000 are outliers, so we make sqft_above value more than 5000 to 5000"
   ]
  },
  {
   "cell_type": "code",
   "execution_count": 24,
   "id": "4f103c0f",
   "metadata": {},
   "outputs": [],
   "source": [
    "df['sqft_above'] = np.where((df.sqft_above >5000 ), 5000, df.sqft_above)\n",
    "# display(df[df.sqft_above > 5000])"
   ]
  },
  {
   "cell_type": "markdown",
   "id": "d108595f",
   "metadata": {},
   "source": [
    "### sqft_basement vs price"
   ]
  },
  {
   "cell_type": "code",
   "execution_count": 25,
   "id": "491e7d93",
   "metadata": {},
   "outputs": [
    {
     "data": {
      "text/plain": [
       "Text(0, 0.5, 'price')"
      ]
     },
     "execution_count": 25,
     "metadata": {},
     "output_type": "execute_result"
    },
    {
     "data": {
      "image/png": "[encoded data removed]",
      "text/plain": [
       "<Figure size 432x288 with 1 Axes>"
      ]
     },
     "metadata": {
      "needs_background": "light"
     },
     "output_type": "display_data"
    }
   ],
   "source": [
    "plt.scatter(df.sqft_basement,df.price)\n",
    "plt.xlabel(\"sqft_basement\")\n",
    "plt.ylabel(\"price\")"
   ]
  },
  {
   "cell_type": "markdown",
   "id": "3505d01e",
   "metadata": {},
   "source": [
    "#### sqft_basement values with more than 2000 are outliers, so we make sqft_basement value more than 2000 to 2000"
   ]
  },
  {
   "cell_type": "code",
   "execution_count": 26,
   "id": "9b757a2a",
   "metadata": {},
   "outputs": [],
   "source": [
    "df['sqft_basement'] = np.where((df.sqft_basement >2000 ), 2000, df.sqft_basement)\n",
    "# display(df[df.sqft_basement > 2000])"
   ]
  },
  {
   "cell_type": "code",
   "execution_count": 27,
   "id": "53856283",
   "metadata": {},
   "outputs": [
    {
     "data": {
      "image/png": "[encoded data removed]",
      "text/plain": [
       "<Figure size 432x288 with 1 Axes>"
      ]
     },
     "metadata": {
      "needs_background": "light"
     },
     "output_type": "display_data"
    }
   ],
   "source": [
    "ax = sns.kdeplot(df['price'])\n",
    "ax.set_title('Disribution of Price')\n",
    "plt.show()"
   ]
  },
  {
   "cell_type": "code",
   "execution_count": 28,
   "id": "d0adbf62",
   "metadata": {},
   "outputs": [],
   "source": [
    "from scipy import stats\n",
    "# df['price'] = df['price'].replace([data['price'][np.abs(stats.zscore(data['price'])) > 3]],np.median(df['price']))\n",
    "df['price'] = np.log(df['price'])"
   ]
  },
  {
   "cell_type": "markdown",
   "id": "48842ee1",
   "metadata": {},
   "source": [
    "price data is left skwed, so log transformation is applied to price column, as price column id is the target variable it will greatly affect the output, This is also a preprocessing technique."
   ]
  },
  {
   "cell_type": "code",
   "execution_count": 29,
   "id": "15f78e99",
   "metadata": {},
   "outputs": [
    {
     "data": {
      "image/png": "[encoded data removed]",
      "text/plain": [
       "<Figure size 432x288 with 1 Axes>"
      ]
     },
     "metadata": {
      "needs_background": "light"
     },
     "output_type": "display_data"
    }
   ],
   "source": [
    "ax = sns.kdeplot(df['price'])\n",
    "ax.set_title('Disribution of Price')\n",
    "plt.show()"
   ]
  },
  {
   "cell_type": "code",
   "execution_count": 30,
   "id": "8bba8a0d",
   "metadata": {},
   "outputs": [],
   "source": [
    "df.to_csv(\"cleaned_houseprice_data.csv\", sep='\\t')"
   ]
  },
  {
   "cell_type": "markdown",
   "id": "216fc9f6",
   "metadata": {},
   "source": [
    "data cleaning is not performed on df1 dataframe"
   ]
  },
  {
   "cell_type": "code",
   "execution_count": 31,
   "id": "1a760443",
   "metadata": {},
   "outputs": [],
   "source": [
    "\n",
    "XX = df1.drop([\"price\"],axis = 1)\n",
    "YY = df1[\"price\"]"
   ]
  },
  {
   "cell_type": "markdown",
   "id": "7dd25d9a",
   "metadata": {},
   "source": [
    "### 4. Analyze"
   ]
  },
  {
   "cell_type": "markdown",
   "id": "22b4a306",
   "metadata": {},
   "source": [
    "In Analyze stage, we will do preprocessing steps like OneHotEncoder for categorical variables and StandardScaler for continuous variables and also we also used validation to check our model is working properly\n",
    "\n",
    "- OneHotEncoder for categorical variables :-\n",
    "This helps to convert categorical variable to numerical value, so that categorical variable can be used in analysis.\n",
    "The input to this transformer should be an array-like of integers or strings, denoting the values taken on by categorical (discrete) features. The features are encoded using a one-hot (aka ‘one-of-K’ or ‘dummy’) encoding scheme. This creates a binary column for each category and returns a sparse matrix or dense array\n",
    "- StandardScaler for continuous variables :-\n",
    "Standardize features by removing the mean and scaling to unit variance. It helps the data to converge in less iterations\n",
    "\n",
    "- Linear regression:- \n",
    "LinearRegression fits a linear model with coefficients w = (w1, …, wp) to minimize the residual sum of squares between the observed targets in the dataset, and the targets predicted by the linear approximation.\n",
    "\n",
    "- Cross Validation:- \n",
    "Cross-validation is primarily used in applied machine learning to estimate the skill of a machine learning model on unseen data. That is, to use a limited sample in order to estimate how the model is expected to perform in general when used to make predictions on data not used during the training of the model."
   ]
  },
  {
   "cell_type": "code",
   "execution_count": 32,
   "id": "9c69b9af",
   "metadata": {},
   "outputs": [],
   "source": [
    "from sklearn.preprocessing import OneHotEncoder\n",
    "from sklearn.impute import SimpleImputer\n",
    "from sklearn.compose import make_column_transformer\n",
    "from sklearn.model_selection import cross_val_score"
   ]
  },
  {
   "cell_type": "code",
   "execution_count": 33,
   "id": "f75b77b7",
   "metadata": {},
   "outputs": [],
   "source": [
    "from sklearn.model_selection import train_test_split\n",
    "from sklearn.preprocessing import StandardScaler\n"
   ]
  },
  {
   "cell_type": "markdown",
   "id": "5e118a36",
   "metadata": {},
   "source": [
    "#### LinearRegression"
   ]
  },
  {
   "cell_type": "code",
   "execution_count": 34,
   "id": "ed28805b",
   "metadata": {},
   "outputs": [
    {
     "name": "stdout",
     "output_type": "stream",
     "text": [
      "results after cleaning data\n",
      "Cross Validation for LinearRegression [0.85064756 0.84371575 0.86595564 0.86553384 0.59448006]\n",
      "Performance score for test data 0.8213787525267323\n",
      "Performance score for train data 0.7902473775647755\n"
     ]
    }
   ],
   "source": [
    "\n",
    "\n",
    "from sklearn.preprocessing import OneHotEncoder\n",
    "from sklearn.compose import ColumnTransformer\n",
    "from sklearn.pipeline import make_pipeline,Pipeline\n",
    "from sklearn.preprocessing import StandardScaler\n",
    "from sklearn.linear_model import LinearRegression\n",
    "\n",
    "numeric_features =['bedrooms','bathrooms','sqft_living','sqft_lot','floors','condition','view','sqft_basement','yr_built']\n",
    "categorical_features  = ['statezip']\n",
    "\n",
    "numeric_transformer = Pipeline(steps=[('scaler', StandardScaler())])\n",
    "categorical_transformer = Pipeline(steps=[('onehot', OneHotEncoder(handle_unknown='ignore'))])\n",
    "preprocessor = ColumnTransformer(\n",
    "    transformers=[\n",
    "        ('num', numeric_transformer, numeric_features),\n",
    "        ('cat', categorical_transformer, categorical_features)])\n",
    "clf = Pipeline(steps=[('preprocessor', preprocessor),\n",
    "                      ('classifier', LinearRegression())])\n",
    "X = df.drop([\"price\"],axis = 1)\n",
    "Y=df['price']\n",
    "print(\"results after cleaning data\")\n",
    "print(\"Cross Validation for LinearRegression\",cross_val_score(clf, X, Y, cv=5))\n",
    "x_train, x_test, y_train, y_test = train_test_split(X, Y, random_state=0)\n",
    "clf.fit(x_train, y_train)\n",
    "print(\"Performance score for test data\",clf.score(x_test, y_test))\n",
    "print(\"Performance score for train data\",clf.score(x_train, y_train))\n",
    "\n"
   ]
  },
  {
   "cell_type": "code",
   "execution_count": 35,
   "id": "5dac11dd",
   "metadata": {},
   "outputs": [
    {
     "name": "stdout",
     "output_type": "stream",
     "text": [
      "data used here is not cleaned\n",
      "Cross Validation for LinearRegression [0.76924941 0.77229506 0.68399461 0.73501827 0.03391347]\n",
      "Performance score for test data 0.7108396691223662\n",
      "Performance score for train data 0.24705831942625622\n"
     ]
    }
   ],
   "source": [
    "# clf = LinearRegression()\n",
    "print(\"data used here is not cleaned\")\n",
    "print(\"Cross Validation for LinearRegression\",cross_val_score(clf, XX, YY, cv=5))\n",
    "x_train, x_test, y_train, y_test = train_test_split(XX, YY, random_state=0)\n",
    "clf.fit(x_train, y_train)\n",
    "print(\"Performance score for test data\",clf.score(x_test, y_test))\n",
    "print(\"Performance score for train data\",clf.score(x_train, y_train))"
   ]
  },
  {
   "cell_type": "markdown",
   "id": "4bb93fa3",
   "metadata": {},
   "source": [
    "### 5. Preserve"
   ]
  },
  {
   "cell_type": "markdown",
   "id": "e4d7a27d",
   "metadata": {},
   "source": [
    "Create a cloud storage bucket\n",
    "-   From the Navigation menu select Cloud Storage\n",
    "- Choose a globally unique bucket name (but not a name you'd like to use for your own projects), then click Continue.\n",
    "- You can leave it as Multi-Regional, or improve speed and reduce costs by making it Regional (choose the same region as your Compute Engine instance).\n",
    "- For Choose how to control access to objects, uncheck the box for Enforce public access prevention on this bucket and select Fine-grained for Access control.\n",
    "- Then, click Create.\n"
   ]
  },
  {
   "cell_type": "markdown",
   "id": "2dd5f6b2",
   "metadata": {},
   "source": [
    "![title](img/create_bucket1.png)"
   ]
  },
  {
   "cell_type": "markdown",
   "id": "c1c12ad7",
   "metadata": {},
   "source": [
    "![title](img/created_bucket.png)"
   ]
  },
  {
   "cell_type": "markdown",
   "id": "b5226c61",
   "metadata": {},
   "source": [
    "After creating bucket store the original and transformed house price data in cloud storage\n",
    "\n",
    "- gsutil cp *.png *.csv gs://ykodeboy_classbucket/house_price_data/"
   ]
  },
  {
   "cell_type": "markdown",
   "id": "a2bdf3e0",
   "metadata": {},
   "source": [
    "The above command store png files and csv files in bucket"
   ]
  },
  {
   "cell_type": "markdown",
   "id": "2612df6e",
   "metadata": {},
   "source": [
    "![title](img/files.png)"
   ]
  },
  {
   "cell_type": "markdown",
   "id": "fa0fffd3",
   "metadata": {},
   "source": [
    "### 6. Publish"
   ]
  },
  {
   "cell_type": "markdown",
   "id": "79bceb83",
   "metadata": {},
   "source": [
    "we can now publish the files in the bucket to web"
   ]
  },
  {
   "cell_type": "markdown",
   "id": "591d20fb",
   "metadata": {},
   "source": [
    "To create a publicly accessible URL for the files, click on the earthquakes.htm file, then click the three dots at the end of the row and select Edit Permissions from the dropdown menu. In the overlay that appears, click the + Add entry button.\n",
    "- Select Public for the Entity.\n",
    "- Enter allUsers for the Name.\n",
    "- Select Reader for the Access.\n",
    "- Then click Save."
   ]
  },
  {
   "cell_type": "markdown",
   "id": "2be3030c",
   "metadata": {},
   "source": [
    "![title](img/public.png)"
   ]
  },
  {
   "cell_type": "markdown",
   "id": "4344c567",
   "metadata": {},
   "source": [
    "https://storage.googleapis.com/ykodeboy_classbucket/house_price_data/compare_features.png \n",
    "\n",
    "If you click on the compare_features.png image file and then on the public URL, a new tab will be opened with the following image loaded:\n",
    "A feature comparison image after data cleaning"
   ]
  },
  {
   "cell_type": "markdown",
   "id": "a1c514cd",
   "metadata": {},
   "source": [
    "![title](img/fea.png)"
   ]
  },
  {
   "cell_type": "markdown",
   "id": "55d445b6",
   "metadata": {},
   "source": [
    "## Results"
   ]
  },
  {
   "cell_type": "markdown",
   "id": "cec771c4",
   "metadata": {},
   "source": [
    "We followed all data life cycle and pipelines as follows"
   ]
  },
  {
   "attachments": {},
   "cell_type": "markdown",
   "id": "40b8e2c9",
   "metadata": {},
   "source": [
    "-\tPlan:- Planed the flow of the project\n",
    "-\tAcquire \n",
    "Create a Compute Engine instance with specific security permissions.\n",
    "SSH into the instance.\n",
    "Install the software package Git (for source code version control).\n",
    "Ingest data into the Compute Engine instance.\n",
    "-\tProcess\n",
    "Implemented data cleaning techniques, transformed data using log transform\n",
    "-\tAnalyze\n",
    "Used preprocessing techniques like onehotencoder, standartscaler, linear regression, cross validation to train model and predict results\n",
    "- Preserve\n",
    "Preserved the files in bucket storage\n",
    "-\tPublish \n",
    "Published the files to the web"
   ]
  },
  {
   "attachments": {},
   "cell_type": "markdown",
   "id": "7e15cec5",
   "metadata": {},
   "source": [
    "The results we got ,data_cleaned .csv, where the original data is cleaned by using different techniques \n",
    "- Remove duplicate or irrelevant observations\n",
    "- Fix structural errors\n",
    "- Filter unwanted outliers\n",
    "- Handle missing data\n",
    "- Validation"
   ]
  },
  {
   "attachments": {
    "image.png": {
     "image/png": "[encoded data removed]"
    }
   },
   "cell_type": "markdown",
   "id": "c97953fd",
   "metadata": {},
   "source": [
    "This data can be used directly by anyone to fit into thieir model, it is easy to integrate with url :-![image.png](attachment:image.png), The correlation between the features before and after cleaning can be seen by url![image.png](attachment:image.png)"
   ]
  },
  {
   "attachments": {},
   "cell_type": "markdown",
   "id": "d1ff0967",
   "metadata": {},
   "source": [
    "We used linear regression to predict the results. Below we compared the results of machine learning model with and without using data cleaning step."
   ]
  },
  {
   "attachments": {},
   "cell_type": "markdown",
   "id": "0845b2f7",
   "metadata": {},
   "source": [
    "Results after cleaning data are\n",
    "- Cross Validation for Linear Regression [0.85064756 0.84371575 0.86595564 0.86553384 0.59448006]\n",
    "- Performance score for test data 0.8213787525267323\n",
    "- Performance score for train data 0.7902473775647755\n",
    "\n",
    "Model was good on both test and train data where the performance score is around 80 %. Cross-validation is to check whether the model is working well on all data sets. All the scores in the cross-validation array are above 85% except one. The model is doing good so far."
   ]
  },
  {
   "attachments": {},
   "cell_type": "markdown",
   "id": "f2a3b764",
   "metadata": {},
   "source": [
    "results without cleaning data:\n",
    "\n",
    "- Cross Validation for Linear Regression [0.76924941 0.77229506 0.68399461 0.73501827 0.03391347]\n",
    "- Performance score for test data 0.7108396691223662\n",
    "- Performance score for train data 0.24705831942625622\n",
    "\n",
    "\n",
    "Model performance on test and train data is not good, moreover, on train data, the performance is only 24% which implies that data is underfitting. Cross-validation scores are not great when compared to former scores. In conclusion, data cleaning is a very important aspect of modeling an algorithm. All the efforts are wasted if data is not cleaned properly."
   ]
  },
  {
   "cell_type": "markdown",
   "id": "aba6906a",
   "metadata": {},
   "source": [
    "## Discussion"
   ]
  },
  {
   "cell_type": "markdown",
   "id": "aaffe913",
   "metadata": {},
   "source": [
    "As we came to know from the above explanation about data life cycle and pipelines and the importance of data cleaning and analytics and preprocessing. I employed the technologies with help of course material especially the data life cycle and pipeline module and also Rent-a-VM to Process Earthquake Data also helped me in doing this project, I have learned new things while doing the project. My experience in data cleaning,  machine learning models, and also skills learned in this class while doing impact of Bigdata, processing, and analytics modules also helped me while doing this project. Difficulties I have faced are, I took more time in deciding what to do for the final project, I am not sure whatever I am doing is sufficient while creating an instance in google cloud I faced a few problems such creation of a VPN network which I have not come across the course before but the documentation helped me. I can further improve this project by importing Kaggle packages and ingesting house price data in real-time rather than downloading from Github. I can use more validations in the process stage in the data life cycle. I can use other sklearn machine learning models to make model work even better. I can use other preprocessing techniques like normalization instead of standardization and compare the results."
   ]
  },
  {
   "cell_type": "markdown",
   "id": "ba09b2dd",
   "metadata": {},
   "source": [
    "## Conclusion"
   ]
  },
  {
   "cell_type": "markdown",
   "id": "ffb41b21",
   "metadata": {},
   "source": [
    "Data life cycle and pipelines have different models, I used the USGS model, which can be DCC, DATAONE, or SEAD model. The main outcome of this project is how house price data has gone through different stages of data life cycle and pipelines, techniques used to clean data, and preprocessing techniques and packages used to create a machine learning model and predicted house price results. The main outcomes are the cleaned data is available to the public which can be used directly to analyze as it is already cleaned, predicting house prices using machine learning model, and importance of data cleaning by comparing machine learning model results with and without data cleaning. Please feel free to give feedback. I had a great learning experience while doing the project. "
   ]
  },
  {
   "cell_type": "markdown",
   "id": "42841fd2",
   "metadata": {},
   "source": [
    "## References"
   ]
  },
  {
   "attachments": {},
   "cell_type": "markdown",
   "id": "9041ba56",
   "metadata": {},
   "source": [
    "- Data lifecycle and pipelines module\n",
    "- https://www.qwiklabs.com/focuses/1846?catalog_raAs%20we%20came%20to%20know%20from%20the%20above%20explanation%20about%20data%20life%20cycle%20and%20pipelines%20and%20the%20importance%20of%20data%20cleaning%20and%20analytics%20and%20preprocessing.%20I%20employed%20the%20technologies%20with%20help%20of%20course%20material%20especially%20the%20data%20life%20cycle%20and%20pipeline%20module%20and%20also%20Rent-a-VM%20to%20Process%20Earthquake%20Data%20(Links%20to%20an%20external%20site.)%22%20also%20helped%20me%20in%20doing%20this%20project,%20I%20have%20learned%20new%20things%20while%20doing%20the%20project.%20My%20experience%20in%20data%20cleaning,%20%20machine%20learning%20models,%20and%20also%20skills%20learned%20in%20this%20class%20while%20doing%20impact%20of%20Bigdata,%20processing,%20and%20analytics%20modules%20also%20helped%20me%20while%20doing%20this%20project.%20Difficulties%20I%20have%20faced%20are,%20I%20took%20more%20time%20in%20deciding%20what%20to%20do%20for%20the%20final%20project,%20I%20am%20not%20sure%20whatever%20I%20am%20doing%20is%20sufficient%20while%20creating%20an%20instance%20in%20google%20cloud%20I%20faced%20a%20few%20problems%20such%20creation%20of%20a%20VPN%20network%20which%20I%20have%20not%20come%20across%20the%20course%20before%20but%20the%20documentation%20helped%20me.%20I%20can%20further%20improve%20this%20project%20by%20importing%20Kaggle%20packages%20and%20ingesting%20house%20price%20data%20in%20real-time%20rather%20than%20downloading%20from%20Github.%20I%20can%20use%20more%20validations%20in%20the%20process%20stage%20in%20the%20data%20life%20cycle.%20I%20can%20use%20other%20sklearn%20machine%20learning%20models%20to%20make%20model%20work%20even%20better.%20I%20can%20use%20other%20preprocessing%20techniques%20like%20normalization%20instead%20of%20standardization%20and%20compare%20the%20results.nk=%7B%22rank%22%3A1%2C%22num_filters%22%3A0%2C%22has_search%22%3Atrue%7D&parent=catalog&search_id=7008005\n",
    "- https://www.tableau.com/learn/articles/what-is-data-cleaning\n",
    "- https://seaborn.pydata.org/generated/seaborn.kdeplot.html#:~:text=A%20kernel%20density%20estimate%20(KDE,in%20one%20or%20more%20dimensions.\n",
    "- https://cloud.google.com/iap/docs/using-tcp-forwarding .\n",
    "- https://www.kaggle.com/shree1992/housedata."
   ]
  }
 ],
 "metadata": {
  "kernelspec": {
   "display_name": "Python 3",
   "language": "python",
   "name": "python3"
  },
  "language_info": {
   "codemirror_mode": {
    "name": "ipython",
    "version": 3
   },
   "file_extension": ".py",
   "mimetype": "text/x-python",
   "name": "python",
   "nbconvert_exporter": "python",
   "pygments_lexer": "ipython3",
   "version": "3.8.8"
  }
 },
 "nbformat": 4,
 "nbformat_minor": 5
}
